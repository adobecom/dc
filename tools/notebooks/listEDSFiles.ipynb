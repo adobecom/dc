{
 "cells": [
  {
   "cell_type": "markdown",
   "id": "94dcc4ab",
   "metadata": {},
   "source": [
    "# List Preview or Live pages on EDS\n",
    "\n",
    "* Get the authentication token from browser\n",
    "* Specify \"preview\" or \"live\" pages to be listed"
   ]
  },
  {
   "cell_type": "code",
   "execution_count": null,
   "id": "a133d24b",
   "metadata": {},
   "outputs": [],
   "source": [
    "// Add your authentication token here\n",
    "const token = 'for admin.hlx.page';\n",
    "// Update the content files to be listeed to \"preview\" or \"live\"\n",
    "const content = 'live';\n",
    "// Update the repo to \"dc\" or \"da-dc\"\n",
    "const repo = 'da-dc';\n",
    "\n",
    "async function logError(response) {\n",
    "  console.error(`Request failed with status: ${response.status} ${response.statusText}`);\n",
    "  \n",
    "  console.error('Response Headers:');\n",
    "  for (const [key, value] of response.headers.entries()) {\n",
    "    console.error(`  ${key}: ${value}`);\n",
    "  }\n",
    "  \n",
    "  try {\n",
    "    const errorData = await response.json();\n",
    "    console.error('Error Response Body:', errorData);\n",
    "  } catch (e) {\n",
    "    const errorText = await response.text();\n",
    "    console.error('Error Response Body (text):', errorText);\n",
    "  }\n",
    "  \n",
    "  throw new Error(`HTTP ${response.status}: ${response.statusText}`);\n",
    "}"
   ]
  },
  {
   "cell_type": "markdown",
   "id": "cff773ed",
   "metadata": {},
   "source": [
    "* Test if the token is working"
   ]
  },
  {
   "cell_type": "code",
   "execution_count": null,
   "id": "408f9ab2",
   "metadata": {},
   "outputs": [],
   "source": [
    "const response = await fetch(`https://admin.hlx.page/status/adobecom/${repo}/main/`, {\n",
    "  headers: {\n",
    "    'x-auth-token': token\n",
    "  }\n",
    "});\n",
    "\n",
    "if (!response.ok) {\n",
    "  logError(response);\n",
    "}\n",
    "\n",
    "const data = await response.json();\n",
    "console.log(data);"
   ]
  },
  {
   "cell_type": "markdown",
   "id": "f733167a",
   "metadata": {},
   "source": [
    "* Create the status job to retrieve the list of pages "
   ]
  },
  {
   "cell_type": "code",
   "execution_count": null,
   "id": "d2925f82",
   "metadata": {},
   "outputs": [],
   "source": [
    "const response = await fetch(`https://admin.hlx.page/status/adobecom/${repo}/main/*`, {\n",
    "  method: 'POST',\n",
    "  headers: {\n",
    "    'x-auth-token': token,\n",
    "    'Content-Type': 'application/json'\n",
    "  },\n",
    "\n",
    "  body: JSON.stringify({\n",
    "    \"select\": [\n",
    "      content\n",
    "    ],\n",
    "    \"paths\": [\n",
    "      \"/*\"\n",
    "    ],\n",
    "    \"pathsOnly\": true\n",
    "  })\n",
    "});\n",
    "\n",
    "if (!response.ok) {\n",
    "  logError(response);\n",
    "}\n",
    "\n",
    "const data = await response.json();\n",
    "console.log(data);\n",
    "\n",
    "const jobLink = data.links.self;"
   ]
  },
  {
   "cell_type": "markdown",
   "id": "fa76c7f6",
   "metadata": {},
   "source": [
    "* Check the job status until the state is \"stopped\" "
   ]
  },
  {
   "cell_type": "code",
   "execution_count": null,
   "id": "549234a3",
   "metadata": {},
   "outputs": [],
   "source": [
    "const response = await fetch(jobLink, {\n",
    "  headers: {\n",
    "    'x-auth-token': token\n",
    "  }\n",
    "});\n",
    "\n",
    "if (!response.ok) {\n",
    "  logError(response);\n",
    "}\n",
    "\n",
    "const data = await response.json();\n",
    "console.log(data);\n",
    "\n",
    "const jobDetails = data.links.details;"
   ]
  },
  {
   "cell_type": "markdown",
   "id": "20a78a93",
   "metadata": {},
   "source": [
    "* Get the job details and save the list of pages"
   ]
  },
  {
   "cell_type": "code",
   "execution_count": null,
   "id": "aa298963",
   "metadata": {},
   "outputs": [],
   "source": [
    "const response = await fetch(jobDetails, {\n",
    "  headers: {\n",
    "    'x-auth-token': token\n",
    "  }\n",
    "});\n",
    "\n",
    "if (!response.ok) {\n",
    "  logError(response);\n",
    "}\n",
    "\n",
    "const data = await response.json();\n",
    "const fileList = data.data.resources[content];\n",
    "\n",
    "const fileListString = fileList.join('\\n');\n",
    "\n",
    "console.log(`${content} pages:`);\n",
    "console.log(fileListString);\n",
    "\n",
    "const fileName = `${repo}-${content}.txt`;\n",
    "await Deno.writeTextFile(fileName, fileListString);\n",
    "console.log(`\\nOutput saved to: ${fileName}`);"
   ]
  }
 ],
 "metadata": {
  "kernelspec": {
   "display_name": "Deno",
   "language": "typescript",
   "name": "deno"
  },
  "language_info": {
   "codemirror_mode": "typescript",
   "file_extension": ".ts",
   "mimetype": "text/x.typescript",
   "name": "typescript",
   "nbconvert_exporter": "script",
   "pygments_lexer": "typescript",
   "version": "5.7.3"
  }
 },
 "nbformat": 4,
 "nbformat_minor": 5
}
