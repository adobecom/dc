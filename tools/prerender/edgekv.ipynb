{
 "cells": [
  {
   "cell_type": "markdown",
   "metadata": {},
   "source": [
    "\n",
    "# EdgeKV Notebook\n",
    "\n",
    "- EdgeGrid Library for NodeJS: https://github.com/akamai/AkamaiOPEN-edgegrid-node\n",
    "- EdgeKV API Reference: https://techdocs.akamai.com/edgekv/reference/api \n",
    "- EdgeKV Library for EdgeWorker: https://github.com/akamai/edgeworkers-examples/blob/master/edgekv/lib/edgekv.js \n",
    "- EdgeKV Sample: https://github.com/akamai/edgeworkers-examples/tree/master/edgecompute/examples/getting-started/hello-world%20(EKV)\n",
    "- EdgeKV Postman: https://github.com/akamai/edgeworkers-examples/blob/master/public_examples/edgekv/postman/edgekv_postman_collection.json\n"
   ]
  },
  {
   "cell_type": "markdown",
   "metadata": {},
   "source": [
    "### ~/.edgerc file\n",
    "\n",
    "The edgerc file should have a section of credentials for accessing EdgeKV. The section name should be unique in the file.\n",
    "\n",
    "```\n",
    "[edgekv]\n",
    "client_secret = ... \n",
    "host = ...\n",
    "access_token = ... \n",
    "client_token = ...\n",
    "```\n",
    "\n",
    "### CLI\n",
    "\n",
    "An example of a command line for writing an item to EdgeKV.\n",
    "\n",
    "```\n",
    "akamai edgekv --section edgekv write text staging stage frictionless sign-pdf \"<h1>Test EdgeKV</h1>\"\n",
    "```"
   ]
  },
  {
   "cell_type": "markdown",
   "metadata": {},
   "source": [
    "### EdgeWorker\n",
    "\n",
    "- [edgekv.js](https://github.com/akamai/edgeworkers-examples/blob/master/edgekv/lib/edgekv.js)\n",
    "\n",
    "The library file for an EdgeWorker to access EdgeKV \n",
    "\n",
    "- edgekv_tokens.js\n",
    "\n",
    "The token file is required with the credentials.\n",
    "\n",
    "```js\n",
    "var edgekv_access_tokens = {\n",
    "  'namespace-stage': {\n",
    "    name: 'dc',\n",
    "    reference: '...',\n",
    "  },\n",
    "  'namespace-prod': {\n",
    "    name: 'dc',\n",
    "    reference: '...',\n",
    "  },\n",
    "};\n",
    "export { edgekv_access_tokens };\n",
    "\n",
    "```\n",
    "\n",
    "Command line to generate edgekv_tokens.js\n",
    "```\n",
    "akamai edgekv --section edgekv create token dc  --save_path=/Users/tsay/Workspace/adobecom-dc/edgeworkers/Acrobat_DC_web_prod/utils --overwrite --staging=allow --production=allow --ewids=all --namespace=stage+r,prod+r\n",
    "```\n",
    "Need to prefix \"namespace-\" to a namespace in the token file."
   ]
  },
  {
   "cell_type": "code",
   "execution_count": 42,
   "metadata": {},
   "outputs": [],
   "source": [
    "// Initialize EdgeGrid library\n",
    "import EdgeGrid from \"npm:akamai-edgegrid\";\n",
    "import { readFileSync } from 'node:fs';\n",
    "\n",
    "const eg = new EdgeGrid({\n",
    "  path: '/Users/tsay/.edgerc',\n",
    "  section: 'edgekv'\n",
    "});\n"
   ]
  },
  {
   "cell_type": "code",
   "execution_count": null,
   "metadata": {},
   "outputs": [],
   "source": [
    "// Read a JSON file from EdgeKV\n",
    "eg.auth({\n",
    "  path: '/edgekv/v1/networks/staging/namespaces/stage/groups/frictionless/items/sign-pdf_desktop',\n",
    "  method: 'GET',\n",
    "  headers: {\n",
    "  },\n",
    "  body: {}\n",
    "});\n",
    "\n",
    "eg.send(function(error, response, body) {\n",
    "  console.log(body.length);\n",
    "  console.log(JSON.parse(body));\n",
    "});"
   ]
  },
  {
   "cell_type": "code",
   "execution_count": null,
   "metadata": {},
   "outputs": [],
   "source": [
    "\n",
    "// Write a JSON file to EdgeKV\n",
    "const data = readFileSync('/Users/tsay/Workspace/adobecom-dc/tools/prerender/sign-pdf-desktop.json');\n",
    "\n",
    "eg.auth({\n",
    "  path: '/edgekv/v1/networks/staging/namespaces/stage/groups/frictionless/items/sign-pdf_desktop',\n",
    "  method: 'PUT',\n",
    "  headers: {\n",
    "  },\n",
    "  body: JSON.parse(data)\n",
    "});\n",
    "\n",
    "eg.send(function(error, response, body) {\n",
    "  console.log(body);\n",
    "});\n"
   ]
  }
 ],
 "metadata": {
  "kernelspec": {
   "display_name": "Deno",
   "language": "typescript",
   "name": "deno"
  },
  "language_info": {
   "codemirror_mode": "typescript",
   "file_extension": ".ts",
   "mimetype": "text/x.typescript",
   "name": "typescript",
   "nbconvert_exporter": "script",
   "pygments_lexer": "typescript",
   "version": "5.7.3"
  }
 },
 "nbformat": 4,
 "nbformat_minor": 2
}
