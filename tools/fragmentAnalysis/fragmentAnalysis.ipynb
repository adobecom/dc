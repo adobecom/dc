{
 "cells": [
  {
   "cell_type": "markdown",
   "metadata": {},
   "source": [
    "# Analyzing Fragment Usage in DocCloud en-US Pages\n"
   ]
  },
  {
   "cell_type": "markdown",
   "metadata": {},
   "source": [
    "Analyze content to find fragement usage. "
   ]
  },
  {
   "cell_type": "code",
   "execution_count": 15,
   "metadata": {},
   "outputs": [],
   "source": [
    "import { xml2js } from \"https://deno.land/x/xml2js@1.0.0/mod.ts\";\n",
    "import { DOMParser } from \"https://deno.land/x/deno_dom/deno-dom-wasm.ts\";"
   ]
  },
  {
   "cell_type": "markdown",
   "metadata": {},
   "source": [
    "Functions to read robots.txt, sitemap.xml, and plain.html."
   ]
  },
  {
   "cell_type": "code",
   "execution_count": 16,
   "metadata": {},
   "outputs": [],
   "source": [
    "function parseRobotsTxt(text) {\n",
    "  const lines = text.split('\\n');\n",
    "  const sitemapLines = lines.filter((x) => x.startsWith('Sitemap:'));\n",
    "  return { sitemaps: sitemapLines.map((x) => x.replace('Sitemap:', '').trim()) };\n",
    "}\n",
    "\n",
    "async function readRobotsTxt(url) {\n",
    "  const resp = await fetch(url);\n",
    "  return parseRobotsTxt(await resp.text());\n",
    "}\n",
    "\n",
    "function parseSitemapXml(text) {\n",
    "  return xml2js(text, { compact: true });\n",
    "}\n",
    "\n",
    "async function readSitemapXml(url) {\n",
    "  const resp = await fetch(url);\n",
    "  return parseSitemapXml(await resp.text());\n",
    "}\n",
    "\n",
    "function parsePlainHtml(text) {\n",
    "  return new DOMParser().parseFromString(text, 'text/html');\n",
    "}\n",
    "\n",
    "async function readPlainHtml(url) {\n",
    "  const resp = await fetch(url);\n",
    "  if (!resp.ok) return null;\n",
    "  return parsePlainHtml(await resp.text());\n",
    "}"
   ]
  },
  {
   "cell_type": "markdown",
   "metadata": {},
   "source": [
    "Get all `sitemap.xml`s from robots.txt."
   ]
  },
  {
   "cell_type": "code",
   "execution_count": 17,
   "metadata": {},
   "outputs": [],
   "source": [
    "const urlRobotsTxt = 'https://www.adobe.com/robots.txt';\n",
    "const robots = await readRobotsTxt(urlRobotsTxt);"
   ]
  },
  {
   "cell_type": "markdown",
   "metadata": {},
   "source": [
    "Use the sitemap-index.xml `https://www.adobe.com/dc.milo.sitemap-index.xml`\n",
    "\n",
    "Use the en-US sitemap only `https://www.adobe.com/ae_ar/dc-shared/assets/sitemap.xml` "
   ]
  },
  {
   "cell_type": "code",
   "execution_count": 18,
   "metadata": {},
   "outputs": [],
   "source": [
    "const urlSitemapXml = robots.sitemaps.filter((x) => x.includes('dc.milo'))[0];\n",
    "const urlSitemaps = await readSitemapXml(urlSitemapXml);\n",
    "const urlLocSitemaps = urlSitemaps.sitemapindex.sitemap.filter((x) => x.loc._text.includes('adobe.com/dc-shared'));"
   ]
  },
  {
   "cell_type": "markdown",
   "metadata": {},
   "source": [
    "`pages`: HTML pages\n",
    "\n",
    "`framgments`: Fragments\n",
    "\n",
    "`subFrags`: Fragments in a fragment"
   ]
  },
  {
   "cell_type": "code",
   "execution_count": 19,
   "metadata": {},
   "outputs": [],
   "source": [
    "const pages = {};\n",
    "const fragments = {};\n",
    "const subFrags = {};\n",
    "const regex = new RegExp('/dc-shared/fragments/');"
   ]
  },
  {
   "cell_type": "markdown",
   "metadata": {},
   "source": [
    "Read the en-US sitemap"
   ]
  },
  {
   "cell_type": "code",
   "execution_count": 20,
   "metadata": {},
   "outputs": [
    {
     "name": "stdout",
     "output_type": "stream",
     "text": [
      "https://www.adobe.com/dc-shared/assets/sitemap.xml\n",
      "1380\n"
     ]
    }
   ],
   "source": [
    "for (let i = 0; i < urlLocSitemaps.length; i++) {\n",
    "  const url = urlLocSitemaps[i].loc._text;\n",
    "  console.log(url);\n",
    "  const sitemap = await readSitemapXml(url);\n",
    "  if (sitemap.urlset.url) {\n",
    "    console.log(sitemap.urlset.url.length);\n",
    "    sitemap.urlset.url.map((x) => x.loc._text).forEach(x => pages[x] = {fragments: []});\n",
    "  }\n",
    "}"
   ]
  },
  {
   "cell_type": "markdown",
   "metadata": {},
   "source": [
    "Clear the result objects in case of re-run from the middle"
   ]
  },
  {
   "cell_type": "code",
   "execution_count": 21,
   "metadata": {},
   "outputs": [],
   "source": [
    "Object.keys(pages).forEach(key => pages[key].fragments = []);\n",
    "Object.keys(fragments).forEach(key => delete fragments[key]);\n",
    "Object.keys(subFrags).forEach(key => delete subFrags[key]);"
   ]
  },
  {
   "cell_type": "markdown",
   "metadata": {},
   "source": [
    "Search fragments in all pages in the en-US sitemap. Some pages are from Dexter. If there is no plain.html, then it is a Dexter page and it is removed."
   ]
  },
  {
   "cell_type": "code",
   "execution_count": 22,
   "metadata": {},
   "outputs": [
    {
     "data": {
      "text/plain": [
       "\u001b[33m2\u001b[39m"
      ]
     },
     "execution_count": 22,
     "metadata": {},
     "output_type": "execute_result"
    }
   ],
   "source": [
    "for (const url of Object.keys(pages)) {\n",
    "  //console.log(url);\n",
    "  \n",
    "  const urlObj = new URL(url);\n",
    "\n",
    "  const urlPlainHtml = url.replace('.html', '.plain.html');\n",
    "  const document = await readPlainHtml(urlPlainHtml);\n",
    "\n",
    "  if (!document) {\n",
    "    delete pages[url];\n",
    "    continue;\n",
    "  }\n",
    "\n",
    "  const nodes = Array.from(document.querySelectorAll('a'));\n",
    "  const links = nodes.map(x => x.attributes.getNamedItem('href')?.value);\n",
    "\n",
    "  const frags = links.filter((x) => regex.test(x));\n",
    "\n",
    "  for (let frag of frags) {\n",
    "    [frag] = frag.split('#');\n",
    "    urlObj.pathname = frag;\n",
    "    const urlFrag = urlObj.href;\n",
    "\n",
    "    if (!fragments[urlFrag]) {\n",
    "      fragments[urlFrag] = { pages: [] };\n",
    "    }\n",
    "\n",
    "    fragments[urlFrag].pages.push(url);\n",
    "    pages[url].fragments.push(urlFrag);\n",
    "  }\n",
    "}"
   ]
  },
  {
   "cell_type": "markdown",
   "metadata": {},
   "source": [
    "Find if there are fragments in a fragment."
   ]
  },
  {
   "cell_type": "code",
   "execution_count": 23,
   "metadata": {},
   "outputs": [],
   "source": [
    "for (const url of Object.keys(fragments)) {\n",
    "  //console.log(url);\n",
    "  \n",
    "  const urlObj = new URL(url);\n",
    "\n",
    "  const urlPlainHtml = `${url}.plain.html`;\n",
    "  const document = await readPlainHtml(urlPlainHtml);\n",
    "\n",
    "  if (!document) {\n",
    "    delete fragments[url];\n",
    "    continue;\n",
    "  }\n",
    "\n",
    "  const nodes = Array.from(document.querySelectorAll('a'));\n",
    "  const links = nodes.map(x => x.attributes.getNamedItem('href')?.value);\n",
    "\n",
    "  const frags = links.filter((x) => regex.test(x));\n",
    "\n",
    "  for (let frag of frags) {\n",
    "    [frag] = frag.split('#');\n",
    "    urlObj.pathname = frag;\n",
    "    const urlFrag = urlObj.href;\n",
    "\n",
    "    if (!subFrags[urlFrag]) {\n",
    "      subFrags[urlFrag] = { fragments: [] };\n",
    "    }\n",
    "\n",
    "    subFrags[urlFrag].fragments.push(url);\n",
    "\n",
    "    if (!fragments[url].subFrags) {\n",
    "      fragments[url].subFrags = [];\n",
    "    }\n",
    "\n",
    "    fragments[url].subFrags.push(urlFrag);\n",
    "  }\n",
    "}"
   ]
  },
  {
   "cell_type": "markdown",
   "metadata": {},
   "source": [
    "Analyze how many pages have fragments."
   ]
  },
  {
   "cell_type": "code",
   "execution_count": 24,
   "metadata": {},
   "outputs": [
    {
     "name": "stdout",
     "output_type": "stream",
     "text": [
      "Fragment Count 0: 1023 pages\n",
      "Fragment Count 1: 183 pages\n",
      "Fragment Count 2: 147 pages\n",
      "Fragment Count 3: 18 pages\n",
      "Fragment Count 4: 5 pages\n",
      "Fragment Count 6: 1 pages\n"
     ]
    }
   ],
   "source": [
    "const buckets = {};\n",
    "for (const url of Object.keys(pages)) {\n",
    "  const count = pages[url].fragments.length;\n",
    "  if (!buckets[count]) {\n",
    "    buckets[count] = []\n",
    "  }\n",
    "  buckets[count].push(url);\n",
    "}\n",
    "for (const count of Object.keys(buckets).sort()) {\n",
    "  console.log(`Fragment Count ${count}: ${buckets[count].length} pages`)\n",
    "}"
   ]
  },
  {
   "cell_type": "code",
   "execution_count": 42,
   "metadata": {},
   "outputs": [
    {
     "name": "stdout",
     "output_type": "stream",
     "text": [
      "https://www.adobe.com/dc-shared/fragments/seo-articles/acrobat-color-blade is used by 244 pages.\n",
      "https://www.adobe.com/dc-shared/fragments/seo-articles/seo-caas-collection is used by 113 pages.\n",
      "https://www.adobe.com/dc-shared/fragments/shared-fragments/pricing-pods/standard-pro-know is used by 26 pages.\n",
      "https://www.adobe.com/dc-shared/fragments/promo-banners/dc-refresh is used by 25 pages.\n",
      "https://www.adobe.com/dc-shared/fragments/resources/want-to-know-more is used by 25 pages.\n",
      "https://www.adobe.com/dc-shared/fragments/resources/assurance-you-need is used by 15 pages.\n",
      "https://www.adobe.com/dc-shared/fragments/shared-fragments/business/red-acrobat-bg-want-know-more is used by 7 pages.\n",
      "https://www.adobe.com/dc-shared/fragments/shared-fragments/acrobat-icon-blocks/purple-acrobat-iconblock-know-more is used by 7 pages.\n",
      "https://www.adobe.com/dc-shared/fragments/modals/free-trial/sign-free-trial is used by 7 pages.\n",
      "https://www.adobe.com/dc-shared/fragments/shared-fragments/business/black-get-in-touch-contact is used by 5 pages.\n"
     ]
    }
   ],
   "source": [
    "const fragsUsedBy = Object.keys(fragments).map(frag => ({url: frag, usedByCount: fragments[frag].pages.length}));\n",
    "fragsUsedBy.sort((a, b) => b.usedByCount - a.usedByCount)\n",
    "for (let i=0; i < 10; i++) {\n",
    "  console.log(`${fragsUsedBy[i].url} is used by ${fragsUsedBy[i].usedByCount} pages.`)\n",
    "}"
   ]
  }
 ],
 "metadata": {
  "kernelspec": {
   "display_name": "Deno",
   "language": "typescript",
   "name": "deno"
  },
  "language_info": {
   "file_extension": ".ts",
   "mimetype": "text/x.typescript",
   "name": "typescript",
   "nb_converter": "script",
   "pygments_lexer": "typescript",
   "version": "5.2.2"
  }
 },
 "nbformat": 4,
 "nbformat_minor": 2
}
